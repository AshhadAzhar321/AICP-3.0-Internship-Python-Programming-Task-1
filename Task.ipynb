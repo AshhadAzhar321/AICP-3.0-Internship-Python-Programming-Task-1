{
 "cells": [
  {
   "cell_type": "markdown",
   "id": "b8ed96cd",
   "metadata": {},
   "source": [
    "## Task 1"
   ]
  },
  {
   "cell_type": "code",
   "execution_count": 5,
   "id": "9fa8c507",
   "metadata": {},
   "outputs": [],
   "source": [
    "import numpy as np\n",
    "record = {}"
   ]
  },
  {
   "cell_type": "code",
   "execution_count": 6,
   "id": "710bfa29",
   "metadata": {},
   "outputs": [
    {
     "name": "stdout",
     "output_type": "stream",
     "text": [
      "Please enter cow ID, or enter 0 to exit: 123\n",
      "Values for which day would you like to enter?(1-7) 1\n",
      "Please enter 1 for the first milking or 2 for the second milking: 1\n",
      "Please enter the litres of milk produced (only enter numeric values): 12\n",
      "Please enter cow ID, or enter 0 to exit: 123\n",
      "Values for which day would you like to enter?(1-7) 2\n",
      "Please enter 1 for the first milking or 2 for the second milking: 2\n",
      "Please enter the litres of milk produced (only enter numeric values): 14\n",
      "Please enter cow ID, or enter 0 to exit: 123\n",
      "Values for which day would you like to enter?(1-7) 3\n",
      "Please enter 1 for the first milking or 2 for the second milking: 1\n",
      "Please enter the litres of milk produced (only enter numeric values): 15\n",
      "Please enter cow ID, or enter 0 to exit: 123\n",
      "Values for which day would you like to enter?(1-7) 4\n",
      "Please enter 1 for the first milking or 2 for the second milking: 2\n",
      "Please enter the litres of milk produced (only enter numeric values): 15\n",
      "Please enter cow ID, or enter 0 to exit: 123\n",
      "Values for which day would you like to enter?(1-7) 5\n",
      "Please enter 1 for the first milking or 2 for the second milking: 2\n",
      "Please enter the litres of milk produced (only enter numeric values): 12\n",
      "Please enter cow ID, or enter 0 to exit: 456\n",
      "Values for which day would you like to enter?(1-7) 6\n",
      "Please enter 1 for the first milking or 2 for the second milking: 2\n",
      "Please enter the litres of milk produced (only enter numeric values): 12\n",
      "Please enter cow ID, or enter 0 to exit: 789\n",
      "Values for which day would you like to enter?(1-7) 6\n",
      "Please enter 1 for the first milking or 2 for the second milking: 32\n",
      "Please enter 1 for the first milking or 2 for the second milking: 2\n",
      "Please enter the litres of milk produced (only enter numeric values): 32\n",
      "Please enter cow ID, or enter 0 to exit: 0\n"
     ]
    }
   ],
   "source": [
    "while True:\n",
    "    cow_id = int(input(\"Please enter cow ID, or enter 0 to exit: \"))\n",
    "    if cow_id == 0: #Exit code incase user wants to stop entering values\n",
    "        break\n",
    "    if cow_id not in record: #Will add new cow ID to records if true, will skip and edit present data if false\n",
    "        record[cow_id] = np.zeros((7,2))\n",
    "    while True:\n",
    "        day = int(input(\"Values for which day would you like to enter?(1-7) \"))\n",
    "        day = day-1\n",
    "        if day in range(0,7):\n",
    "            break\n",
    "    while True:\n",
    "        milk_time = int(input(\"Please enter 1 for the first milking or 2 for the second milking: \"))\n",
    "        milk_time = milk_time-1\n",
    "        if milk_time in range(0,2):\n",
    "            break\n",
    "    milk = round(float(input(\"Please enter the litres of milk produced (only enter numeric values): \")),1)\n",
    "    record[cow_id][day][milk_time] = milk"
   ]
  },
  {
   "cell_type": "markdown",
   "id": "d1e916e3",
   "metadata": {},
   "source": [
    "## Task 2"
   ]
  },
  {
   "cell_type": "code",
   "execution_count": 7,
   "id": "98e749e6",
   "metadata": {},
   "outputs": [],
   "source": [
    "total = {}\n",
    "avg = {}\n",
    "for i in record:\n",
    "    total[i] = round(record[i].sum())\n",
    "    avg[i] = round(total[i]/7)"
   ]
  },
  {
   "cell_type": "code",
   "execution_count": 17,
   "id": "d1f9b8ca",
   "metadata": {},
   "outputs": [
    {
     "name": "stdout",
     "output_type": "stream",
     "text": [
      "{123: 68, 456: 12, 789: 32}\n"
     ]
    }
   ],
   "source": [
    "print(total)"
   ]
  },
  {
   "cell_type": "code",
   "execution_count": 18,
   "id": "336c174d",
   "metadata": {},
   "outputs": [
    {
     "name": "stdout",
     "output_type": "stream",
     "text": [
      "{123: 10, 456: 2, 789: 5}\n"
     ]
    }
   ],
   "source": [
    "print(avg)"
   ]
  },
  {
   "cell_type": "markdown",
   "id": "a484af29",
   "metadata": {},
   "source": [
    "## Task 3"
   ]
  },
  {
   "cell_type": "code",
   "execution_count": 8,
   "id": "b0fcd771",
   "metadata": {},
   "outputs": [
    {
     "name": "stdout",
     "output_type": "stream",
     "text": [
      "Cow 123 has greatest yield of 68 litres.\n"
     ]
    }
   ],
   "source": [
    "max_key = max(total, key=total.get)\n",
    "print(\"Cow \"+str(max_key)+\" has greatest yield of \"+str(total[max_key])+\" litres.\")"
   ]
  },
  {
   "cell_type": "code",
   "execution_count": 9,
   "id": "2201323b",
   "metadata": {},
   "outputs": [],
   "source": [
    "cow_yield_per_day = {}\n",
    "for i in record:\n",
    "    cow_yield_per_day[i] = np.zeros(7)\n",
    "    for j in range(0,7):\n",
    "        cow_yield_per_day[i][j] = sum(record[i][j])"
   ]
  },
  {
   "cell_type": "code",
   "execution_count": 15,
   "id": "8267a551",
   "metadata": {},
   "outputs": [],
   "source": [
    "low_yield_cows = []\n",
    "\n",
    "for j in range(0,4):\n",
    "    for k in range(j+1,5):\n",
    "        for l in range(k+1,6):\n",
    "            for m in range(l+1,7):\n",
    "                for i in cow_yield_per_day:\n",
    "                    if(cow_yield_per_day[i][j]+cow_yield_per_day[i][k]+cow_yield_per_day[i][l]+cow_yield_per_day[i][m] < 12):\n",
    "                        if i not in low_yield_cows:\n",
    "                            low_yield_cows.append(i)\n",
    "                            break"
   ]
  },
  {
   "cell_type": "code",
   "execution_count": 16,
   "id": "407f7144",
   "metadata": {},
   "outputs": [
    {
     "name": "stdout",
     "output_type": "stream",
     "text": [
      "Cows with low yields are: 456, 789\n"
     ]
    }
   ],
   "source": [
    "cow_names = \", \".join(str(cow) for cow in low_yield_cows)\n",
    "print(\"Cows with low yields are: \" + cow_names)"
   ]
  },
  {
   "cell_type": "code",
   "execution_count": null,
   "id": "01e60e7e",
   "metadata": {},
   "outputs": [],
   "source": []
  }
 ],
 "metadata": {
  "kernelspec": {
   "display_name": "Python 3 (ipykernel)",
   "language": "python",
   "name": "python3"
  },
  "language_info": {
   "codemirror_mode": {
    "name": "ipython",
    "version": 3
   },
   "file_extension": ".py",
   "mimetype": "text/x-python",
   "name": "python",
   "nbconvert_exporter": "python",
   "pygments_lexer": "ipython3",
   "version": "3.11.4"
  }
 },
 "nbformat": 4,
 "nbformat_minor": 5
}
